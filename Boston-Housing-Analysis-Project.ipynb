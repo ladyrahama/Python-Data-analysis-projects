{
 "cells": [
  {
   "cell_type": "code",
   "execution_count": 11,
   "id": "4194e1ac-c2f4-4283-8056-9d6993d03710",
   "metadata": {},
   "outputs": [],
   "source": [
    "import pandas as pd\n",
    "import seaborn as sns\n",
    "import matplotlib.pyplot as plt\n",
    "import scipy.stats\n",
    "import statsmodels.api as sm\n",
    "from statsmodels.formula.api import ols"
   ]
  },
  {
   "cell_type": "code",
   "execution_count": 3,
   "id": "0f55cbc3-32d4-437b-bad4-11c665515986",
   "metadata": {},
   "outputs": [],
   "source": [
    "bostons_df=pd.read_csv('Boston_Housing_project_df.csv')"
   ]
  },
  {
   "cell_type": "code",
   "execution_count": 5,
   "id": "d165b0d1-0866-49f1-ab10-bf07da179114",
   "metadata": {},
   "outputs": [
    {
     "data": {
      "text/html": [
       "<div>\n",
       "<style scoped>\n",
       "    .dataframe tbody tr th:only-of-type {\n",
       "        vertical-align: middle;\n",
       "    }\n",
       "\n",
       "    .dataframe tbody tr th {\n",
       "        vertical-align: top;\n",
       "    }\n",
       "\n",
       "    .dataframe thead th {\n",
       "        text-align: right;\n",
       "    }\n",
       "</style>\n",
       "<table border=\"1\" class=\"dataframe\">\n",
       "  <thead>\n",
       "    <tr style=\"text-align: right;\">\n",
       "      <th></th>\n",
       "      <th>Unnamed: 0</th>\n",
       "      <th>CRIM</th>\n",
       "      <th>ZN</th>\n",
       "      <th>INDUS</th>\n",
       "      <th>CHAS</th>\n",
       "      <th>NOX</th>\n",
       "      <th>RM</th>\n",
       "      <th>AGE</th>\n",
       "      <th>DIS</th>\n",
       "      <th>RAD</th>\n",
       "      <th>TAX</th>\n",
       "      <th>PTRATIO</th>\n",
       "      <th>LSTAT</th>\n",
       "      <th>MEDV</th>\n",
       "    </tr>\n",
       "  </thead>\n",
       "  <tbody>\n",
       "    <tr>\n",
       "      <th>0</th>\n",
       "      <td>0</td>\n",
       "      <td>0.00632</td>\n",
       "      <td>18.0</td>\n",
       "      <td>2.31</td>\n",
       "      <td>0.0</td>\n",
       "      <td>0.538</td>\n",
       "      <td>6.575</td>\n",
       "      <td>65.2</td>\n",
       "      <td>4.0900</td>\n",
       "      <td>1.0</td>\n",
       "      <td>296.0</td>\n",
       "      <td>15.3</td>\n",
       "      <td>4.98</td>\n",
       "      <td>24.0</td>\n",
       "    </tr>\n",
       "    <tr>\n",
       "      <th>1</th>\n",
       "      <td>1</td>\n",
       "      <td>0.02731</td>\n",
       "      <td>0.0</td>\n",
       "      <td>7.07</td>\n",
       "      <td>0.0</td>\n",
       "      <td>0.469</td>\n",
       "      <td>6.421</td>\n",
       "      <td>78.9</td>\n",
       "      <td>4.9671</td>\n",
       "      <td>2.0</td>\n",
       "      <td>242.0</td>\n",
       "      <td>17.8</td>\n",
       "      <td>9.14</td>\n",
       "      <td>21.6</td>\n",
       "    </tr>\n",
       "    <tr>\n",
       "      <th>2</th>\n",
       "      <td>2</td>\n",
       "      <td>0.02729</td>\n",
       "      <td>0.0</td>\n",
       "      <td>7.07</td>\n",
       "      <td>0.0</td>\n",
       "      <td>0.469</td>\n",
       "      <td>7.185</td>\n",
       "      <td>61.1</td>\n",
       "      <td>4.9671</td>\n",
       "      <td>2.0</td>\n",
       "      <td>242.0</td>\n",
       "      <td>17.8</td>\n",
       "      <td>4.03</td>\n",
       "      <td>34.7</td>\n",
       "    </tr>\n",
       "    <tr>\n",
       "      <th>3</th>\n",
       "      <td>3</td>\n",
       "      <td>0.03237</td>\n",
       "      <td>0.0</td>\n",
       "      <td>2.18</td>\n",
       "      <td>0.0</td>\n",
       "      <td>0.458</td>\n",
       "      <td>6.998</td>\n",
       "      <td>45.8</td>\n",
       "      <td>6.0622</td>\n",
       "      <td>3.0</td>\n",
       "      <td>222.0</td>\n",
       "      <td>18.7</td>\n",
       "      <td>2.94</td>\n",
       "      <td>33.4</td>\n",
       "    </tr>\n",
       "    <tr>\n",
       "      <th>4</th>\n",
       "      <td>4</td>\n",
       "      <td>0.06905</td>\n",
       "      <td>0.0</td>\n",
       "      <td>2.18</td>\n",
       "      <td>0.0</td>\n",
       "      <td>0.458</td>\n",
       "      <td>7.147</td>\n",
       "      <td>54.2</td>\n",
       "      <td>6.0622</td>\n",
       "      <td>3.0</td>\n",
       "      <td>222.0</td>\n",
       "      <td>18.7</td>\n",
       "      <td>5.33</td>\n",
       "      <td>36.2</td>\n",
       "    </tr>\n",
       "  </tbody>\n",
       "</table>\n",
       "</div>"
      ],
      "text/plain": [
       "   Unnamed: 0     CRIM    ZN  INDUS  CHAS    NOX     RM   AGE     DIS  RAD  \\\n",
       "0           0  0.00632  18.0   2.31   0.0  0.538  6.575  65.2  4.0900  1.0   \n",
       "1           1  0.02731   0.0   7.07   0.0  0.469  6.421  78.9  4.9671  2.0   \n",
       "2           2  0.02729   0.0   7.07   0.0  0.469  7.185  61.1  4.9671  2.0   \n",
       "3           3  0.03237   0.0   2.18   0.0  0.458  6.998  45.8  6.0622  3.0   \n",
       "4           4  0.06905   0.0   2.18   0.0  0.458  7.147  54.2  6.0622  3.0   \n",
       "\n",
       "     TAX  PTRATIO  LSTAT  MEDV  \n",
       "0  296.0     15.3   4.98  24.0  \n",
       "1  242.0     17.8   9.14  21.6  \n",
       "2  242.0     17.8   4.03  34.7  \n",
       "3  222.0     18.7   2.94  33.4  \n",
       "4  222.0     18.7   5.33  36.2  "
      ]
     },
     "execution_count": 5,
     "metadata": {},
     "output_type": "execute_result"
    }
   ],
   "source": [
    "bostons_df.head()"
   ]
  },
  {
   "cell_type": "code",
   "execution_count": 6,
   "id": "b70d67b0-8b48-42cb-9212-b477c1a1436d",
   "metadata": {},
   "outputs": [
    {
     "name": "stdout",
     "output_type": "stream",
     "text": [
      "<class 'pandas.core.frame.DataFrame'>\n",
      "RangeIndex: 506 entries, 0 to 505\n",
      "Data columns (total 14 columns):\n",
      " #   Column      Non-Null Count  Dtype  \n",
      "---  ------      --------------  -----  \n",
      " 0   Unnamed: 0  506 non-null    int64  \n",
      " 1   CRIM        506 non-null    float64\n",
      " 2   ZN          506 non-null    float64\n",
      " 3   INDUS       506 non-null    float64\n",
      " 4   CHAS        506 non-null    float64\n",
      " 5   NOX         506 non-null    float64\n",
      " 6   RM          506 non-null    float64\n",
      " 7   AGE         506 non-null    float64\n",
      " 8   DIS         506 non-null    float64\n",
      " 9   RAD         506 non-null    float64\n",
      " 10  TAX         506 non-null    float64\n",
      " 11  PTRATIO     506 non-null    float64\n",
      " 12  LSTAT       506 non-null    float64\n",
      " 13  MEDV        506 non-null    float64\n",
      "dtypes: float64(13), int64(1)\n",
      "memory usage: 55.5 KB\n"
     ]
    }
   ],
   "source": [
    "bostons_df.info()"
   ]
  },
  {
   "cell_type": "code",
   "execution_count": 7,
   "id": "7c7eedcf-1ce1-4187-80c5-85a1ec1b65ee",
   "metadata": {},
   "outputs": [
    {
     "data": {
      "text/plain": [
       "(506, 14)"
      ]
     },
     "execution_count": 7,
     "metadata": {},
     "output_type": "execute_result"
    }
   ],
   "source": [
    "bostons_df.shape"
   ]
  },
  {
   "cell_type": "code",
   "execution_count": 9,
   "id": "d20e4ec2-f79d-4641-951d-74a1bd398474",
   "metadata": {},
   "outputs": [
    {
     "data": {
      "text/html": [
       "<div>\n",
       "<style scoped>\n",
       "    .dataframe tbody tr th:only-of-type {\n",
       "        vertical-align: middle;\n",
       "    }\n",
       "\n",
       "    .dataframe tbody tr th {\n",
       "        vertical-align: top;\n",
       "    }\n",
       "\n",
       "    .dataframe thead th {\n",
       "        text-align: right;\n",
       "    }\n",
       "</style>\n",
       "<table border=\"1\" class=\"dataframe\">\n",
       "  <thead>\n",
       "    <tr style=\"text-align: right;\">\n",
       "      <th></th>\n",
       "      <th>Unnamed: 0</th>\n",
       "      <th>CRIM</th>\n",
       "      <th>ZN</th>\n",
       "      <th>INDUS</th>\n",
       "      <th>CHAS</th>\n",
       "      <th>NOX</th>\n",
       "      <th>RM</th>\n",
       "      <th>AGE</th>\n",
       "      <th>DIS</th>\n",
       "      <th>RAD</th>\n",
       "      <th>TAX</th>\n",
       "      <th>PTRATIO</th>\n",
       "      <th>LSTAT</th>\n",
       "      <th>MEDV</th>\n",
       "    </tr>\n",
       "  </thead>\n",
       "  <tbody>\n",
       "    <tr>\n",
       "      <th>count</th>\n",
       "      <td>506.000000</td>\n",
       "      <td>506.000000</td>\n",
       "      <td>506.000000</td>\n",
       "      <td>506.000000</td>\n",
       "      <td>506.000000</td>\n",
       "      <td>506.000000</td>\n",
       "      <td>506.000000</td>\n",
       "      <td>506.000000</td>\n",
       "      <td>506.000000</td>\n",
       "      <td>506.000000</td>\n",
       "      <td>506.000000</td>\n",
       "      <td>506.000000</td>\n",
       "      <td>506.000000</td>\n",
       "      <td>506.000000</td>\n",
       "    </tr>\n",
       "    <tr>\n",
       "      <th>mean</th>\n",
       "      <td>252.500000</td>\n",
       "      <td>3.613524</td>\n",
       "      <td>11.363636</td>\n",
       "      <td>11.136779</td>\n",
       "      <td>0.069170</td>\n",
       "      <td>0.554695</td>\n",
       "      <td>6.284634</td>\n",
       "      <td>68.574901</td>\n",
       "      <td>3.795043</td>\n",
       "      <td>9.549407</td>\n",
       "      <td>408.237154</td>\n",
       "      <td>18.455534</td>\n",
       "      <td>12.653063</td>\n",
       "      <td>22.532806</td>\n",
       "    </tr>\n",
       "    <tr>\n",
       "      <th>std</th>\n",
       "      <td>146.213884</td>\n",
       "      <td>8.601545</td>\n",
       "      <td>23.322453</td>\n",
       "      <td>6.860353</td>\n",
       "      <td>0.253994</td>\n",
       "      <td>0.115878</td>\n",
       "      <td>0.702617</td>\n",
       "      <td>28.148861</td>\n",
       "      <td>2.105710</td>\n",
       "      <td>8.707259</td>\n",
       "      <td>168.537116</td>\n",
       "      <td>2.164946</td>\n",
       "      <td>7.141062</td>\n",
       "      <td>9.197104</td>\n",
       "    </tr>\n",
       "    <tr>\n",
       "      <th>min</th>\n",
       "      <td>0.000000</td>\n",
       "      <td>0.006320</td>\n",
       "      <td>0.000000</td>\n",
       "      <td>0.460000</td>\n",
       "      <td>0.000000</td>\n",
       "      <td>0.385000</td>\n",
       "      <td>3.561000</td>\n",
       "      <td>2.900000</td>\n",
       "      <td>1.129600</td>\n",
       "      <td>1.000000</td>\n",
       "      <td>187.000000</td>\n",
       "      <td>12.600000</td>\n",
       "      <td>1.730000</td>\n",
       "      <td>5.000000</td>\n",
       "    </tr>\n",
       "    <tr>\n",
       "      <th>25%</th>\n",
       "      <td>126.250000</td>\n",
       "      <td>0.082045</td>\n",
       "      <td>0.000000</td>\n",
       "      <td>5.190000</td>\n",
       "      <td>0.000000</td>\n",
       "      <td>0.449000</td>\n",
       "      <td>5.885500</td>\n",
       "      <td>45.025000</td>\n",
       "      <td>2.100175</td>\n",
       "      <td>4.000000</td>\n",
       "      <td>279.000000</td>\n",
       "      <td>17.400000</td>\n",
       "      <td>6.950000</td>\n",
       "      <td>17.025000</td>\n",
       "    </tr>\n",
       "    <tr>\n",
       "      <th>50%</th>\n",
       "      <td>252.500000</td>\n",
       "      <td>0.256510</td>\n",
       "      <td>0.000000</td>\n",
       "      <td>9.690000</td>\n",
       "      <td>0.000000</td>\n",
       "      <td>0.538000</td>\n",
       "      <td>6.208500</td>\n",
       "      <td>77.500000</td>\n",
       "      <td>3.207450</td>\n",
       "      <td>5.000000</td>\n",
       "      <td>330.000000</td>\n",
       "      <td>19.050000</td>\n",
       "      <td>11.360000</td>\n",
       "      <td>21.200000</td>\n",
       "    </tr>\n",
       "    <tr>\n",
       "      <th>75%</th>\n",
       "      <td>378.750000</td>\n",
       "      <td>3.677083</td>\n",
       "      <td>12.500000</td>\n",
       "      <td>18.100000</td>\n",
       "      <td>0.000000</td>\n",
       "      <td>0.624000</td>\n",
       "      <td>6.623500</td>\n",
       "      <td>94.075000</td>\n",
       "      <td>5.188425</td>\n",
       "      <td>24.000000</td>\n",
       "      <td>666.000000</td>\n",
       "      <td>20.200000</td>\n",
       "      <td>16.955000</td>\n",
       "      <td>25.000000</td>\n",
       "    </tr>\n",
       "    <tr>\n",
       "      <th>max</th>\n",
       "      <td>505.000000</td>\n",
       "      <td>88.976200</td>\n",
       "      <td>100.000000</td>\n",
       "      <td>27.740000</td>\n",
       "      <td>1.000000</td>\n",
       "      <td>0.871000</td>\n",
       "      <td>8.780000</td>\n",
       "      <td>100.000000</td>\n",
       "      <td>12.126500</td>\n",
       "      <td>24.000000</td>\n",
       "      <td>711.000000</td>\n",
       "      <td>22.000000</td>\n",
       "      <td>37.970000</td>\n",
       "      <td>50.000000</td>\n",
       "    </tr>\n",
       "  </tbody>\n",
       "</table>\n",
       "</div>"
      ],
      "text/plain": [
       "       Unnamed: 0        CRIM          ZN       INDUS        CHAS         NOX  \\\n",
       "count  506.000000  506.000000  506.000000  506.000000  506.000000  506.000000   \n",
       "mean   252.500000    3.613524   11.363636   11.136779    0.069170    0.554695   \n",
       "std    146.213884    8.601545   23.322453    6.860353    0.253994    0.115878   \n",
       "min      0.000000    0.006320    0.000000    0.460000    0.000000    0.385000   \n",
       "25%    126.250000    0.082045    0.000000    5.190000    0.000000    0.449000   \n",
       "50%    252.500000    0.256510    0.000000    9.690000    0.000000    0.538000   \n",
       "75%    378.750000    3.677083   12.500000   18.100000    0.000000    0.624000   \n",
       "max    505.000000   88.976200  100.000000   27.740000    1.000000    0.871000   \n",
       "\n",
       "               RM         AGE         DIS         RAD         TAX     PTRATIO  \\\n",
       "count  506.000000  506.000000  506.000000  506.000000  506.000000  506.000000   \n",
       "mean     6.284634   68.574901    3.795043    9.549407  408.237154   18.455534   \n",
       "std      0.702617   28.148861    2.105710    8.707259  168.537116    2.164946   \n",
       "min      3.561000    2.900000    1.129600    1.000000  187.000000   12.600000   \n",
       "25%      5.885500   45.025000    2.100175    4.000000  279.000000   17.400000   \n",
       "50%      6.208500   77.500000    3.207450    5.000000  330.000000   19.050000   \n",
       "75%      6.623500   94.075000    5.188425   24.000000  666.000000   20.200000   \n",
       "max      8.780000  100.000000   12.126500   24.000000  711.000000   22.000000   \n",
       "\n",
       "            LSTAT        MEDV  \n",
       "count  506.000000  506.000000  \n",
       "mean    12.653063   22.532806  \n",
       "std      7.141062    9.197104  \n",
       "min      1.730000    5.000000  \n",
       "25%      6.950000   17.025000  \n",
       "50%     11.360000   21.200000  \n",
       "75%     16.955000   25.000000  \n",
       "max     37.970000   50.000000  "
      ]
     },
     "execution_count": 9,
     "metadata": {},
     "output_type": "execute_result"
    }
   ],
   "source": [
    "bostons_df.describe()"
   ]
  },
  {
   "cell_type": "markdown",
   "id": "ba9df9e6-f5b7-49a0-bacf-557f4f051d8d",
   "metadata": {},
   "source": [
    "# Creating a Boxplot for the Median Value of Owner Occupied Homes (MEDV) Column"
   ]
  },
  {
   "cell_type": "code",
   "execution_count": 13,
   "id": "d8e4b648-ea2d-47e9-824f-1133d76f2690",
   "metadata": {},
   "outputs": [
    {
     "data": {
      "image/png": "[encoded data removed]",
      "text/plain": [
       "<Figure size 800x600 with 1 Axes>"
      ]
     },
     "metadata": {},
     "output_type": "display_data"
    }
   ],
   "source": [
    "plt.figure(figsize=(8, 6))\n",
    "sns.boxplot(y=bostons_df['MEDV'], color='skyblue')\n",
    "plt.title('Boxplot of MEDV', fontsize=16)\n",
    "plt.ylabel('MEDV', fontsize=12)\n",
    "plt.show()"
   ]
  },
  {
   "cell_type": "markdown",
   "id": "047124a9-6027-4359-b345-903951a866d7",
   "metadata": {},
   "source": [
    "This boxplot shows the distribution of median house values (MEDV), revealing some outliers above $40,000. The presence of this outliers indicates that there are some houses in the dataset with median values significantly higher than the majority of the data. This can suggest variability in housing prices, possibly due to factors like location, size, or condition of the homes."
   ]
  },
  {
   "cell_type": "markdown",
   "id": "a22be2c7-6538-42ec-9d8b-5e4c9d878fe2",
   "metadata": {},
   "source": [
    "## Creating a Bar plot for the Charles River Variable"
   ]
  },
  {
   "cell_type": "code",
   "execution_count": 14,
   "id": "db8e7aca-4615-400d-96ce-5f30a8ea753c",
   "metadata": {},
   "outputs": [
    {
     "data": {
      "image/png": "[encoded data removed]",
      "text/plain": [
       "<Figure size 800x600 with 1 Axes>"
      ]
     },
     "metadata": {},
     "output_type": "display_data"
    }
   ],
   "source": [
    "# Creating a bar plot for the CHAS column\n",
    "plt.figure(figsize=(8, 6))\n",
    "sns.countplot(x=bostons_df['CHAS'], color='lightgreen')\n",
    "plt.title('Distribution of CHAS (Charles River Dummy Variable)', fontsize=12)\n",
    "plt.xlabel('CHAS', fontsize=10)\n",
    "plt.ylabel('Count', fontsize=10)\n",
    "plt.show()"
   ]
  },
  {
   "cell_type": "markdown",
   "id": "2e14dda0-e9e1-4fef-a0ef-fc72e95d50e6",
   "metadata": {},
   "source": [
    " The CHAS variable in the Boston Housing dataset is a binary indicator (0 or 1) that signifies whether a property is located near the Charles River or not. where '0' Indicates that the property is not located near the Charles River, and '1' Indicates that the property is located near the Charles river.  In this graph The x-axis shows the two categories (0 and 1), while the y-axis shows the number of properties in each category. We can see from here that a majority of the houses are not located near the Charles river"
   ]
  },
  {
   "cell_type": "markdown",
   "id": "4896ea8c-6b63-4a43-a194-e149e1ebcb88",
   "metadata": {},
   "source": [
    "## Plotting a Box Plot showing MEDV vs AGE into three Groups"
   ]
  },
  {
   "cell_type": "code",
   "execution_count": 26,
   "id": "be611129-6cfc-4864-9d46-f5336043273a",
   "metadata": {},
   "outputs": [
    {
     "name": "stderr",
     "output_type": "stream",
     "text": [
      "C:\\Users\\ACER\\AppData\\Local\\Temp\\ipykernel_2472\\3475981840.py:8: FutureWarning: \n",
      "\n",
      "Passing `palette` without assigning `hue` is deprecated and will be removed in v0.14.0. Assign the `x` variable to `hue` and set `legend=False` for the same effect.\n",
      "\n",
      "  sns.boxplot(x='AGE_group', y='MEDV', data=bostons_df, palette='pastel')\n"
     ]
    },
    {
     "data": {
      "image/png": "[encoded data removed]",
      "text/plain": [
       "<Figure size 1000x600 with 1 Axes>"
      ]
     },
     "metadata": {},
     "output_type": "display_data"
    }
   ],
   "source": [
    "# Categorizing the AGE column into three groups\n",
    "bins = [0, 35, 70, 100]\n",
    "labels = ['35 and younger', '36 to 70', '70 and older']\n",
    "bostons_df['AGE_group'] = pd.cut(bostons_df['AGE'], bins=bins, labels=labels, right=True)\n",
    "\n",
    "# Creating a boxplot for MEDV vs AGE_group\n",
    "plt.figure(figsize=(10, 6))\n",
    "sns.boxplot(x='AGE_group', y='MEDV', data=bostons_df, palette='pastel')\n",
    "plt.title('Boxplot of MEDV by AGE Group', fontsize=16)\n",
    "plt.xlabel('AGE Group', fontsize=12)\n",
    "plt.ylabel('MEDV', fontsize=12)\n",
    "plt.show()"
   ]
  },
  {
   "cell_type": "markdown",
   "id": "94d9f4bb-6a1b-4357-85f0-7e681e44544e",
   "metadata": {},
   "source": [
    "By plotting MEDV against the newly created AGE groups, we can easily compare how the median house values differ across these 3 age categories."
   ]
  },
  {
   "cell_type": "markdown",
   "id": "f946befc-ce3f-46f8-a500-d6ab05e0b028",
   "metadata": {},
   "source": [
    "## A Scatter Plot showing the Relationship between Nitrate Oxide Concentrations (NOX) and Proportion of Non retail Business Acres per Town(INDUS)"
   ]
  },
  {
   "cell_type": "code",
   "execution_count": 27,
   "id": "78c5097d-c077-4853-9781-c1a0b79155b1",
   "metadata": {},
   "outputs": [
    {
     "data": {
      "image/png": "[encoded data removed]",
      "text/plain": [
       "<Figure size 1000x600 with 1 Axes>"
      ]
     },
     "metadata": {},
     "output_type": "display_data"
    }
   ],
   "source": [
    "# Creating a scatter plot for NOX vs INDUS\n",
    "plt.figure(figsize=(10, 6))\n",
    "sns.scatterplot(x='INDUS', y='NOX', data=bostons_df)\n",
    "plt.title('NOX vs INDUS', fontsize=14)\n",
    "plt.xlabel('Proportion of non-retail business acres (INDUS)', fontsize=12)\n",
    "plt.ylabel('Nitric oxide concentration (NOX)', fontsize=12)\n",
    "\n",
    "# Calculate correlation coefficient\n",
    "correlation = bostons_df['NOX'].corr(bostons_df['INDUS'])\n",
    "plt.text(0.05, 0.95, f'Correlation: {correlation:.2f}', transform=plt.gca().transAxes)\n",
    "\n",
    "plt.show()"
   ]
  },
  {
   "cell_type": "markdown",
   "id": "2e47d39c-79de-4984-a3d0-652992173c05",
   "metadata": {},
   "source": [
    "The scatter plot reveals a strong positive correlation (0.76) between industrial areas (INDUS) and nitric oxide concentration (NOX). The relationship appears to be non-linear, with NOX levels increasing more rapidly at lower INDUS values and then leveling off at higher industrial concentrations"
   ]
  },
  {
   "cell_type": "markdown",
   "id": "8a5b5197-2f7b-4f21-be81-9564e5abbf51",
   "metadata": {},
   "source": [
    " ## A histogram to visualize the distribution of the PTRATIO variable, which represents the pupil-teacher ratio by town."
   ]
  },
  {
   "cell_type": "code",
   "execution_count": 29,
   "id": "0c1b3499-65cd-4948-9944-d7410dcec3e7",
   "metadata": {},
   "outputs": [
    {
     "data": {
      "image/png": "[encoded data removed]",
      "text/plain": [
       "<Figure size 1000x600 with 1 Axes>"
      ]
     },
     "metadata": {},
     "output_type": "display_data"
    }
   ],
   "source": [
    "# Creating a histogram for the PTRATIO variable\n",
    "plt.figure(figsize=(10, 6))\n",
    "plt.hist(bostons_df['PTRATIO'], bins=15, color='lightblue', edgecolor='black')\n",
    "plt.title('Histogram of PTRATIO', fontsize=14)\n",
    "plt.xlabel('Pupil-Teacher Ratio (PTRATIO)', fontsize=12)\n",
    "plt.ylabel('Frequency', fontsize=12)\n",
    "plt.show()"
   ]
  },
  {
   "cell_type": "markdown",
   "id": "f701b6e0-9cb3-498c-a3ad-d4a566c827fb",
   "metadata": {},
   "source": [
    "Pupil-teacher ratio (PTRATIO): This is a specific variable in the dataset that indicates the number of students per teacher in a school. A lower ratio typically suggests more individual attention for students, while a higher ratio may indicate larger class sizes."
   ]
  },
  {
   "cell_type": "markdown",
   "id": "e12caefe-f7e1-45d0-9971-131dd8836eba",
   "metadata": {},
   "source": [
    "## Performing a T-test to show if there is a significant difference in median values of houses bounded by the charles river or not"
   ]
  },
  {
   "cell_type": "code",
   "execution_count": 30,
   "id": "7f96d90f-5854-46f4-a44d-2a9c21cf5a7b",
   "metadata": {},
   "outputs": [
    {
     "name": "stdout",
     "output_type": "stream",
     "text": [
      "T-statistic: 3.996437466090509\n",
      "P-value: 7.390623170519905e-05\n",
      "Mean MEDV for houses near Charles River: 28.439999999999998\n",
      "Mean MEDV for houses not near Charles River: 22.093842887473464\n"
     ]
    }
   ],
   "source": [
    "# Performing independent t-test\n",
    "from scipy import stats\n",
    "\n",
    "# Separate MEDV values based on CHAS\n",
    "river = bostons_df[bostons_df['CHAS'] == 1]['MEDV']\n",
    "no_river = bostons_df[bostons_df['CHAS'] == 0]['MEDV']\n",
    "\n",
    "# Perform t-test\n",
    "t_stat, p_value = stats.ttest_ind(river, no_river)\n",
    "\n",
    "print(\"T-statistic:\", t_stat)\n",
    "print(\"P-value:\", p_value)\n",
    "\n",
    "# Calculate mean values for both groups\n",
    "print(\"\\\n",
    "Mean MEDV for houses near Charles River:\", river.mean())\n",
    "print(\"Mean MEDV for houses not near Charles River:\", no_river.mean())"
   ]
  },
  {
   "cell_type": "markdown",
   "id": "443a9a15-f59a-4e4c-8a49-7df87553a04b",
   "metadata": {},
   "source": [
    "The T-test results indicate a significant difference in median house values (MEDV) between houses near the Charles River and those not near it, as the p-value is very small (0.00007). Here are the results:\n",
    "\n",
    "T-statistic: 3.996437466090509\n",
    "\n",
    "P-value: 7.390623170519905e-05\n",
    "\n",
    "Mean MEDV for houses near Charles River: 28.439999999999998\n",
    "\n",
    "Mean MEDV for houses not near Charles River: 22.093842887473464\n",
    "\n",
    "This suggests that proximity to the Charles River has a statistically significant impact on house values."
   ]
  },
  {
   "cell_type": "markdown",
   "id": "f80a2239-7162-4823-ac0a-2cd27c78edc9",
   "metadata": {},
   "source": [
    "## Performing an ANOVA to reveal a suggested difference in median values of houses (MEDV) for each proportion of owner occupied units built prior to 1940 (AGE). "
   ]
  },
  {
   "cell_type": "code",
   "execution_count": 31,
   "id": "f4853c3a-9dfc-4cdb-9941-7c8bdfda2fc8",
   "metadata": {},
   "outputs": [
    {
     "name": "stdout",
     "output_type": "stream",
     "text": [
      "F-statistic: 36.40764999196599\n",
      "P-value: 1.7105011022702984e-15\n",
      "Result: Reject the null hypothesis. There is a significant difference in MEDV across AGE groups.\n"
     ]
    }
   ],
   "source": [
    "\n",
    "# Hypotheses:\n",
    "# Null Hypothesis (H0): There is no significant difference in MEDV across AGE groups.\n",
    "# Alternative Hypothesis (H1): There is a significant difference in MEDV across AGE groups.\n",
    "\n",
    "# Discretizing AGE into bins\n",
    "bins = [0, 35, 70, 100]\n",
    "labels = ['35 and younger', '36 to 70', '70 and older']\n",
    "bostons_df['AGE_group'] = pd.cut(bostons_df['AGE'], bins=bins, labels=labels, right=True)\n",
    "\n",
    "# Grouping MEDV by AGE groups\n",
    "medv_groups = [bostons_df[bostons_df['AGE_group'] == label]['MEDV'] for label in labels]\n",
    "\n",
    "# Performing ANOVA\n",
    "f_stat, p_value = f_oneway(*medv_groups)\n",
    "\n",
    "print(\"F-statistic:\", f_stat)\n",
    "print(\"P-value:\", p_value)\n",
    "\n",
    "# Significance level\n",
    "alpha = 0.05\n",
    "if p_value < alpha:\n",
    "    print(\"\\\n",
    "Result: Reject the null hypothesis. There is a significant difference in MEDV across AGE groups.\")\n",
    "else:\n",
    "    print(\"\\\n",
    "Result: Fail to reject the null hypothesis. No significant difference in MEDV across AGE groups.\")"
   ]
  },
  {
   "cell_type": "markdown",
   "id": "5646e3a6-9813-46b7-92d1-affdab10655c",
   "metadata": {},
   "source": [
    "ANOVA (Analysis of Variance) test, is a statistical method used to compare the means of three or more groups to determine if at least one group mean is significantly different from the others. \n",
    "So to perform the ANOVA, I first stated the hypotheses, then grouped the data by the AGE variable (discretized into bins), and then calculated the test statistics to determine if there is a significant difference in MEDV across these groups.\n",
    "\n",
    "After the ANOVA test was successfully performed, the results indicates a significant difference in median house values (MEDV) across the AGE groups. Here are the results:\r\n",
    "\r\n",
    "F-statistic: 36.40764999196599\r\n",
    "\r\n",
    "P-value: 1.7105011022702984e-The F-statistic here is a ratio that compares the variance between the groups to the variance within the groups. A higher F-statistic indicates a greater degree of difference between the group means. this case, the F-statistic is approximately 36.41, which suggests a strong difference in MEDV across the AGE groups.\n",
    "also the P-value is very small and indicates strong evidence against the null hypothesis.\n",
    "15\r\n",
    "\r\n",
    "ConcluWeResult: Reject the null hypothesis. There is a significant difference in MEDV across AGE  oups.\r\n",
    "\r\n",
    "This suggests that the proportion of owner-occupied uniacross the different AGE groups940 (AGE) significanty impacts the median hou.\n",
    "The Implication of this is that the age of the houses (specifically, whether they were built before 1940) has a significant impact on their median house values, hence older houses may have different characteristics, desirability, or market value compared to newer ones.t\n",
    "Tthe age of the houses istherefore  an important factor influencing their market value, and this finding could be useful for real estate analysi and, investment decisinso\r\n",
    "se values"
   ]
  },
  {
   "cell_type": "markdown",
   "id": "927c0fc7-42a3-42bf-ac91-7c78a3370eb6",
   "metadata": {},
   "source": [
    "\n",
    "## Performing a Pearson's Correlation to see if we can conclude that there is no relationship between Nitric Oxide Concentrations(NOX) and Proportion of non Retail Businesses Acres per Town(INDUS)"
   ]
  },
  {
   "cell_type": "code",
   "execution_count": 32,
   "id": "e87a119a-6ebd-43c3-b623-6ebd309fc3c4",
   "metadata": {},
   "outputs": [
    {
     "name": "stdout",
     "output_type": "stream",
     "text": [
      "Pearson's Correlation Coefficient: 0.7636514469209161\n",
      "P-value: 7.913361061232958e-98\n",
      "Result: Reject the null hypothesis. There is a significant relationship between NOX and INDUS.\n"
     ]
    }
   ],
   "source": [
    "# Calculating Pearson's correlation coefficient between NOX and INDUS\n",
    "correlation_coefficient, p_value = stats.pearsonr(bostons_df['NOX'], bostons_df['INDUS'])\n",
    "\n",
    "print(\"Pearson's Correlation Coefficient:\", correlation_coefficient)\n",
    "print(\"P-value:\", p_value)\n",
    "\n",
    "# Significance level\n",
    "alpha = 0.05\n",
    "if p_value < alpha:\n",
    "    print(\"\\\n",
    "Result: Reject the null hypothesis. There is a significant relationship between NOX and INDUS.\")\n",
    "else:\n",
    "    print(\"\\\n",
    "Result: Fail to reject the null hypothesis. No significant relationship between NOX and INDUS.\")"
   ]
  },
  {
   "cell_type": "markdown",
   "id": "e7f5290c-21bb-4765-a1aa-ff18796c92c8",
   "metadata": {},
   "source": [
    "Pearson's correlation, measures the strength and direction of the linear relationship between two continuous variables.\n",
    "Based on the Pearson's correlation results;\n",
    "a Strong positive correlation (r = 0.76) \n",
    "and a small p-value (p < 0.05) \n",
    "We reject the null hypothesis, confirming a significant relationship between NOX (nitric oxide concentrations) and INDUS (proportion of non-retail business acres per town).\n",
    "\n",
    "to further explain this; A value of 0.76 indicates a strong positive correlation, meaning that as one variable increases, the other variable tends to also increase. In this case, it suggests that higher nitric oxide concentrations are associated with a higher proportion of non-retail business acres.\n",
    "\n",
    "While the p-value tests the null hypothesis, which typically states that there is no relationship between the two variables. A p-value less than 0.05 indicates that the observed correlation is statistically significant, meaning it is unlikely to have occurred by random chance. Therefore, we reject the null hypothesis.res."
   ]
  },
  {
   "cell_type": "markdown",
   "id": "05d7cd6c-acb3-47ba-8104-677088c887c1",
   "metadata": {},
   "source": [
    "## Performing a Regression Analysis to show the impact of an additional weighted distance to the five boston employment centres (DIS) on the Median Level of Owner Occupied Homes (MEDV), "
   ]
  },
  {
   "cell_type": "markdown",
   "id": "6333d6b8-e1cf-413f-99ec-59210411be7c",
   "metadata": {},
   "source": [
    "To perform the regression analysis, I will first state the hypotheses, then fit a linear regression model to evaluate the impact of the weighted distance to employment centers (DIS) on the median value of owner-occupied homes (MEDV), and finally interpret the test statistics.\r\n",
    "\r\n",
    "Hypotheses:\r\n",
    "\r\n",
    "Null Hypothes\n",
    "\n",
    " \r\n",
    "0\r\n",
    "​\r\n",
    " ): The coefficient of DIS is zero, meaning DIS has no impact on MEDV.\r\n",
    "Alternative HptH\r\n",
    "1\r\n",
    "H \r\n",
    "1\r\n",
    "​\r\n",
    " ): The coefficient of DIS is not zero, meaning DIS has an impact on MEDV.\r\n",
    "Let me proceed with the regression analysis."
   ]
  },
  {
   "cell_type": "code",
   "execution_count": 33,
   "id": "a12802f7-e855-4d84-9b5f-366278b4bdee",
   "metadata": {},
   "outputs": [
    {
     "name": "stdout",
     "output_type": "stream",
     "text": [
      "                            OLS Regression Results                            \n",
      "==============================================================================\n",
      "Dep. Variable:                   MEDV   R-squared:                       0.062\n",
      "Model:                            OLS   Adj. R-squared:                  0.061\n",
      "Method:                 Least Squares   F-statistic:                     33.58\n",
      "Date:                Mon, 30 Dec 2024   Prob (F-statistic):           1.21e-08\n",
      "Time:                        02:23:39   Log-Likelihood:                -1823.9\n",
      "No. Observations:                 506   AIC:                             3652.\n",
      "Df Residuals:                     504   BIC:                             3660.\n",
      "Df Model:                           1                                         \n",
      "Covariance Type:            nonrobust                                         \n",
      "==============================================================================\n",
      "                 coef    std err          t      P>|t|      [0.025      0.975]\n",
      "------------------------------------------------------------------------------\n",
      "const         18.3901      0.817     22.499      0.000      16.784      19.996\n",
      "DIS            1.0916      0.188      5.795      0.000       0.722       1.462\n",
      "==============================================================================\n",
      "Omnibus:                      139.779   Durbin-Watson:                   0.570\n",
      "Prob(Omnibus):                  0.000   Jarque-Bera (JB):              305.104\n",
      "Skew:                           1.466   Prob(JB):                     5.59e-67\n",
      "Kurtosis:                       5.424   Cond. No.                         9.32\n",
      "==============================================================================\n",
      "\n",
      "Notes:\n",
      "[1] Standard Errors assume that the covariance matrix of the errors is correctly specified.\n"
     ]
    }
   ],
   "source": [
    "\n",
    "\n",
    "# Defining the independent variable (DIS) and dependent variable (MEDV)\n",
    "X = bostons_df['DIS']\n",
    "Y = bostons_df['MEDV']\n",
    "\n",
    "# Adding a constant to the independent variable for the regression model\n",
    "X = sm.add_constant(X)\n",
    "\n",
    "# Fitting the regression model\n",
    "model = sm.OLS(Y, X).fit()\n",
    "\n",
    "# Displaying the summary of the regression analysis\n",
    "summary = model.summary()\n",
    "print(summary)"
   ]
  },
  {
   "cell_type": "markdown",
   "id": "8d9c45e5-53f7-4548-8537-4505b6a76cf3",
   "metadata": {},
   "source": [
    "The results indicates that the weighted distance to employment centers (DIS) has a statistically significant positive impact on the median value of owner-occupied homes (MEDV) (p-value < 0.05).\n",
    "\n",
    "A positive impact here indicates that as the DIS value increases (meaning as homes are further located from employment centers), the MEDV also increases. This could suggest that homes further away from employment centers are valued higher, which might seem counterintuitive but could also be explained by factors like larger homes and better neighborhoods.\n",
    "\n",
    "The p-value less than 0.05 indicates strong evidence against the null hypothesis which states that there is no effect or relationship. therefore it suggests that the relationship between DIS and MEDV is statistically significant, meaning we can be reasonably confident that the observed effect is real and not due to random variations.\n",
    "\n",
    " This analysis however found a reliable and meaningful relationship where greater distances to employment centers are associated with higher median home values, which could have implications for understanding housing market dynamics and urban planning\n",
    "\n"
   ]
  },
  {
   "cell_type": "code",
   "execution_count": null,
   "id": "c04d8e16-0f0b-4ce0-801b-26e2316de4c0",
   "metadata": {},
   "outputs": [],
   "source": [
    "ANALYSIS BY\n",
    "Rahmat Usman\n",
    "ladyrahama@gmail.com"
   ]
  }
 ],
 "metadata": {
  "kernelspec": {
   "display_name": "Python 3 (ipykernel)",
   "language": "python",
   "name": "python3"
  },
  "language_info": {
   "codemirror_mode": {
    "name": "ipython",
    "version": 3
   },
   "file_extension": ".py",
   "mimetype": "text/x-python",
   "name": "python",
   "nbconvert_exporter": "python",
   "pygments_lexer": "ipython3",
   "version": "3.12.4"
  }
 },
 "nbformat": 4,
 "nbformat_minor": 5
}
